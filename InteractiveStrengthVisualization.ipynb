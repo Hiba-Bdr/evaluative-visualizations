{
  "nbformat": 4,
  "nbformat_minor": 0,
  "metadata": {
    "colab": {
      "provenance": []
    },
    "kernelspec": {
      "name": "python3",
      "display_name": "Python 3"
    },
    "language_info": {
      "name": "python"
    }
  },
  "cells": [
    {
      "cell_type": "code",
      "source": [
        "import matplotlib.pyplot as plt\n",
        "import numpy as np\n",
        "from matplotlib import patches\n",
        "from matplotlib.patches import FancyBboxPatch\n",
        "from matplotlib.colors import LinearSegmentedColormap\n",
        "\n",
        "def visualize_gradient_score(score):\n",
        "    \"\"\"\n",
        "    Visualize a score (0 to 1) as a horizontal gradient bar,\n",
        "    smooth color transitions, and a strength label.\n",
        "    \"\"\"\n",
        "\n",
        "    fig, ax = plt.subplots(figsize=(6, 1.2))\n",
        "    ax.axis(\"off\")\n",
        "\n",
        "    # Create gradient colormap: red -> orange -> yellow -> green\n",
        "    cmap = LinearSegmentedColormap.from_list(\"score_cmap\", [\"red\", \"orange\", \"yellow\", \"green\"])\n",
        "\n",
        "    # Draw background gradient\n",
        "    gradient = np.linspace(0, 1, 256).reshape(1, -1)\n",
        "    ax.imshow(gradient, extent=[0, 1, 0.3, 0.7], cmap=cmap, aspect=\"auto\")\n",
        "\n",
        "    # Overlay white for the portion after the score\n",
        "    if score < 1.0:\n",
        "        ax.add_patch(plt.Rectangle((score, 0.3), 1 - score, 0.4, color='white'))\n",
        "\n",
        "    # Rounded border frame\n",
        "    frame = FancyBboxPatch(\n",
        "        (0, 0.3), 1.0, 0.4,\n",
        "        boxstyle=\"round,pad=0.05\",\n",
        "        edgecolor='lightgray',\n",
        "        facecolor='none',\n",
        "        linewidth=1.2\n",
        "    )\n",
        "\n",
        "\n",
        "\n",
        "    ax.add_patch(frame)\n",
        "\n",
        "    # ✅ Draw a fixed outer frame to indicate the full range\n",
        "    ax.add_patch(patches.Rectangle((0, 0.3), 1.0, 0.4, edgecolor='gray', facecolor='none', linewidth=1))\n",
        "\n",
        "    # Choose strength label and color\n",
        "    if score < 0.33:\n",
        "        label = \"weak\"\n",
        "        color = \"red\"\n",
        "    elif score < 0.66:\n",
        "        label = \"medium\"\n",
        "        color = \"orange\"\n",
        "    else:\n",
        "        label = \"strong\"\n",
        "        color = \"green\"\n",
        "\n",
        "    # Add label to the right of the bar\n",
        "    ax.text(1.02, 0.5, label, va=\"center\", ha=\"left\",\n",
        "            fontsize=12, fontweight=\"bold\", color=color,\n",
        "            transform=ax.transAxes)\n",
        "    # Add score value next to label\n",
        "    ax.text(1.03, 0.35, f\"{score:.2f}\", va=\"center\", ha=\"left\",\n",
        "            fontsize=12, fontweight=\"bold\", color=\"black\",\n",
        "            transform=ax.transAxes)\n",
        "\n",
        "    plt.show()\n",
        "\n",
        "\n"
      ],
      "metadata": {
        "id": "jGLvLtlt0Hgh"
      },
      "execution_count": 23,
      "outputs": []
    },
    {
      "cell_type": "markdown",
      "source": [
        "##Example"
      ],
      "metadata": {
        "id": "i5YE38d_4dqv"
      }
    },
    {
      "cell_type": "code",
      "source": [
        "visualize_gradient_score(0.21)"
      ],
      "metadata": {
        "colab": {
          "base_uri": "https://localhost:8080/",
          "height": 129
        },
        "id": "pJ9rh5OI4aYi",
        "outputId": "51e6ffd7-a25f-474d-dc4a-e9d71a6e89d7"
      },
      "execution_count": 20,
      "outputs": [
        {
          "output_type": "display_data",
          "data": {
            "text/plain": [
              "<Figure size 600x120 with 1 Axes>"
            ],
            "image/png": "[encoded data removed]"
          },
          "metadata": {}
        }
      ]
    },
    {
      "cell_type": "code",
      "source": [
        "visualize_gradient_score(0.51)"
      ],
      "metadata": {
        "colab": {
          "base_uri": "https://localhost:8080/",
          "height": 129
        },
        "id": "3to7bE4n4bZI",
        "outputId": "ff67c717-0b32-4257-cb14-53ca7dec50ea"
      },
      "execution_count": 21,
      "outputs": [
        {
          "output_type": "display_data",
          "data": {
            "text/plain": [
              "<Figure size 600x120 with 1 Axes>"
            ],
            "image/png": "[encoded data removed]"
          },
          "metadata": {}
        }
      ]
    },
    {
      "cell_type": "code",
      "source": [
        "visualize_gradient_score(0.81)"
      ],
      "metadata": {
        "colab": {
          "base_uri": "https://localhost:8080/",
          "height": 129
        },
        "id": "HIV3wNPs4bhm",
        "outputId": "d6007e2f-3e86-48d1-8362-63d003f1a64d"
      },
      "execution_count": 22,
      "outputs": [
        {
          "output_type": "display_data",
          "data": {
            "text/plain": [
              "<Figure size 600x120 with 1 Axes>"
            ],
            "image/png": "[encoded data removed]"
          },
          "metadata": {}
        }
      ]
    }
  ]
}